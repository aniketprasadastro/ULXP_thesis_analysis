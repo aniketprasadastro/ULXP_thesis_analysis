{
 "cells": [
  {
   "cell_type": "code",
   "execution_count": 1,
   "id": "52019db4",
   "metadata": {},
   "outputs": [],
   "source": [
    "from astropy.io import fits\n",
    "import numpy as np\n",
    "import matplotlib.pyplot as plt\n",
    "from astropy.timeseries import TimeSeries\n",
    "import pandas as pd\n",
    "import os\n",
    "import glob\n",
    "import os\n",
    "import re\n",
    "import pandas as pd\n",
    "import numpy as np\n",
    "import matplotlib.pyplot as plt\n",
    "plt.style.use('astro')\n",
    "from astropy.io import fits\n",
    "from uncertainties import ufloat\n",
    "from uncertainties.umath import sqrt"
   ]
  },
  {
   "cell_type": "code",
   "execution_count": 2,
   "id": "ffcf6cb8",
   "metadata": {},
   "outputs": [
    {
     "name": "stdout",
     "output_type": "stream",
     "text": [
      "Total NICER FITS files found: 43\n",
      "First few (sorted) NICER files with ObsIDs:\n",
      "ObsID: 6050390227, File: /home/supremekai/thesis/J0243_6p6124/NICER_second_run/folded_curves/6050390227/6050390227_pulse_profile_lc_files_efold_output_same_epoch.fits\n",
      "ObsID: 6050390228, File: /home/supremekai/thesis/J0243_6p6124/NICER_second_run/folded_curves/6050390228/6050390228_pulse_profile_lc_files_efold_output_same_epoch.fits\n",
      "ObsID: 6050390229, File: /home/supremekai/thesis/J0243_6p6124/NICER_second_run/folded_curves/6050390229/6050390229_pulse_profile_lc_files_efold_output_same_epoch.fits\n",
      "ObsID: 6050390230, File: /home/supremekai/thesis/J0243_6p6124/NICER_second_run/folded_curves/6050390230/6050390230_pulse_profile_lc_files_efold_output_same_epoch.fits\n",
      "ObsID: 6050390231, File: /home/supremekai/thesis/J0243_6p6124/NICER_second_run/folded_curves/6050390231/6050390231_pulse_profile_lc_files_efold_output_same_epoch.fits\n"
     ]
    }
   ],
   "source": [
    "# Base directory where 'folded_curves' is located\n",
    "nicer_base_dir = '/home/supremekai/thesis/J0243_6p6124/NICER_second_run/folded_curves'\n",
    "\n",
    "# Find all NICER folded curve FITS files recursively\n",
    "all_nicer_fits_files = glob.glob(\n",
    "    #os.path.join(nicer_base_dir, '**', '*_rms_deviation_flux_errors.fits'),\n",
    "    os.path.join(nicer_base_dir,'**','*_pulse_profile_lc_files_efold_output_same_epoch.fits'),\n",
    "    recursive=True\n",
    ")\n",
    "\n",
    "# Pair each file with its obsID extracted from its parent directory name\n",
    "nicer_files_with_obsid = [(f, os.path.basename(os.path.dirname(f))) for f in all_nicer_fits_files]\n",
    "\n",
    "# Sort based on the numeric value of obsID\n",
    "nicer_files_with_obsid_sorted = sorted(nicer_files_with_obsid, key=lambda x: int(x[1]))\n",
    "\n",
    "# Unpack into separate lists\n",
    "nicer_files = [f for f, _ in nicer_files_with_obsid_sorted]\n",
    "nicer_obs_ids = [obs for _, obs in nicer_files_with_obsid_sorted]\n",
    "\n",
    "# Output some info for inspection\n",
    "print(f\"Total NICER FITS files found: {len(nicer_files)}\")\n",
    "print(\"First few (sorted) NICER files with ObsIDs:\")\n",
    "for f, obs in nicer_files_with_obsid_sorted[:5]:\n",
    "    print(f\"ObsID: {obs}, File: {f}\")"
   ]
  },
  {
   "cell_type": "code",
   "execution_count": 3,
   "id": "bd8c607a",
   "metadata": {},
   "outputs": [],
   "source": [
    "def read_files(path):\n",
    "    profile = fits.open(path)\n",
    "    data = profile[1].data\n",
    "    binned_rate = data['RATE1']\n",
    "    phase = data['PHASE']\n",
    "    binned_rate_error = data['ERROR1']\n",
    "    \n",
    "    N = len(binned_rate)\n",
    "    r_i = [ufloat(binned_rate[i], binned_rate_error[i]) for i in range(N)]\n",
    "\n",
    "    I_max = max(r_i)\n",
    "    I_min = min(r_i)\n",
    "    pulsed_fraction = (I_max - I_min) / (I_max + I_min)\n",
    "\n",
    "    r_bar = sum(r_i) / N\n",
    "    numerator = sqrt(sum((r - r_bar) ** 2 for r in r_i) / N)\n",
    "    rms_pulsed_fraction = numerator / r_bar\n",
    "\n",
    "    return phase, binned_rate, binned_rate_error, pulsed_fraction, rms_pulsed_fraction\n"
   ]
  },
  {
   "cell_type": "code",
   "execution_count": 4,
   "id": "2b5f0137",
   "metadata": {},
   "outputs": [],
   "source": [
    "def process_nicer_group(nicer_files_with_obsid_sorted, save_dir='./pf_results', plot=False):\n",
    "    \"\"\"Calculate and save pulsed fractions for NICER pulse profile FITS files.\"\"\"\n",
    "    pf_data = []\n",
    "    os.makedirs(save_dir, exist_ok=True)\n",
    "\n",
    "    for file_path, obsid in nicer_files_with_obsid_sorted:\n",
    "        try:\n",
    "            phase, intensity, error, pf, rms_pf = read_files(file_path)\n",
    "\n",
    "            pf_data.append({\n",
    "                \"ObsID\": obsid,\n",
    "                \"FilePath\": file_path,\n",
    "                \"PulsedFraction\": round(pf.nominal_value, 5),\n",
    "                \"PulsedFraction_Error\": round(pf.std_dev, 5),\n",
    "                \"RMS_PulsedFraction\": round(rms_pf.nominal_value, 5),\n",
    "                \"RMS_PulsedFraction_Error\": round(rms_pf.std_dev, 5)\n",
    "            })\n",
    "\n",
    "        except Exception as e:\n",
    "            print(f\"Error processing {file_path}: {e}\")\n",
    "\n",
    "    # Save results\n",
    "    df = pd.DataFrame(pf_data)\n",
    "    csv_path = os.path.join(save_dir, 'NICER_pulsed_fractions.csv')\n",
    "    df.to_csv(csv_path, index=False)\n",
    "    print(f\"Saved NICER pulsed fraction results to: {csv_path}\")\n"
   ]
  },
  {
   "cell_type": "code",
   "execution_count": 5,
   "id": "db13ba8c",
   "metadata": {},
   "outputs": [
    {
     "name": "stdout",
     "output_type": "stream",
     "text": [
      "Saved NICER pulsed fraction results to: ./pf_results/NICER_pulsed_fractions.csv\n"
     ]
    }
   ],
   "source": [
    "def main():\n",
    "    process_nicer_group(nicer_files_with_obsid_sorted)\n",
    "\n",
    "if __name__ == '__main__':\n",
    "    main()\n"
   ]
  },
  {
   "cell_type": "code",
   "execution_count": null,
   "id": "b3f39bd1",
   "metadata": {},
   "outputs": [],
   "source": []
  }
 ],
 "metadata": {
  "kernelspec": {
   "display_name": "heasoftenv",
   "language": "python",
   "name": "python3"
  },
  "language_info": {
   "codemirror_mode": {
    "name": "ipython",
    "version": 3
   },
   "file_extension": ".py",
   "mimetype": "text/x-python",
   "name": "python",
   "nbconvert_exporter": "python",
   "pygments_lexer": "ipython3",
   "version": "3.11.9"
  }
 },
 "nbformat": 4,
 "nbformat_minor": 5
}
