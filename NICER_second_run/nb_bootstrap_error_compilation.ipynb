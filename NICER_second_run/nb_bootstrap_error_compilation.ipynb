{
 "cells": [
  {
   "cell_type": "code",
   "execution_count": 1,
   "id": "35643d0f",
   "metadata": {},
   "outputs": [],
   "source": [
    "import os\n",
    "import csv\n",
    "import re"
   ]
  },
  {
   "cell_type": "code",
   "execution_count": 6,
   "id": "004f5530",
   "metadata": {},
   "outputs": [],
   "source": [
    "def extract_mean_std_from_qdp(qdp_path):\n",
    "    \"\"\"\n",
    "    Extract mean and standard deviation from a .qdp file with known format.\n",
    "    \"\"\"\n",
    "    mean_period = None\n",
    "    std_period = None\n",
    "    \n",
    "    with open(qdp_path, 'r') as file:\n",
    "        for line in file:\n",
    "            if \"Mean period:\" in line:\n",
    "                match = re.search(r\"Mean period:\\s*([\\d\\.Ee+-]+)\", line)\n",
    "                if match:\n",
    "                    mean_period = float(match.group(1))\n",
    "            elif \"Standard deviation\" in line:\n",
    "                match = re.search(r\"Standard deviation.*?:\\s*([\\d\\.Ee+-]+)\", line)\n",
    "                if match:\n",
    "                    std_period = float(match.group(1))\n",
    "    \n",
    "    return mean_period, std_period\n",
    "\n",
    "def traverse_and_collect(root_dir, output_csv):\n",
    "    rows = []\n",
    "\n",
    "    for root, dirs, files in os.walk(root_dir):\n",
    "        for file in files:\n",
    "            if file.endswith('.qdp'):\n",
    "                obs_id = os.path.basename(root)\n",
    "                qdp_path = os.path.join(root, file)\n",
    "                mean, std = extract_mean_std_from_qdp(qdp_path)\n",
    "                if mean is not None and std is not None:\n",
    "                    rows.append((obs_id, mean, std))\n",
    "    \n",
    "    rows.sort(key=lambda x: int(x[0]))\n",
    "    \n",
    "    # Save to CSV\n",
    "    with open(output_csv, 'w', newline='') as f:\n",
    "        writer = csv.writer(f)\n",
    "        writer.writerow(['ObsID', 'Period', 'Period_Error'])\n",
    "        writer.writerows(rows)\n"
   ]
  },
  {
   "cell_type": "code",
   "execution_count": 8,
   "id": "6b0ee203",
   "metadata": {},
   "outputs": [
    {
     "name": "stdout",
     "output_type": "stream",
     "text": [
      "Saved summary to: bootstrap_error_uncor_lc/error_estimate_taken.csv\n"
     ]
    }
   ],
   "source": [
    "\n",
    "# === USAGE ===\n",
    "root_folder = \"./bootstrap_error_uncor_lc\"  # Change this to your actual directory\n",
    "output_csv_path = \"bootstrap_error_uncor_lc/error_estimate_taken.csv\"\n",
    "\n",
    "traverse_and_collect(root_folder, output_csv_path)\n",
    "print(f\"Saved summary to: {output_csv_path}\")"
   ]
  }
 ],
 "metadata": {
  "kernelspec": {
   "display_name": "heasoftenv",
   "language": "python",
   "name": "python3"
  },
  "language_info": {
   "codemirror_mode": {
    "name": "ipython",
    "version": 3
   },
   "file_extension": ".py",
   "mimetype": "text/x-python",
   "name": "python",
   "nbconvert_exporter": "python",
   "pygments_lexer": "ipython3",
   "version": "3.11.9"
  }
 },
 "nbformat": 4,
 "nbformat_minor": 5
}
